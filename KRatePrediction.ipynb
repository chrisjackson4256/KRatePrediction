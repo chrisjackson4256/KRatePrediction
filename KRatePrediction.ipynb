{
 "cells": [
  {
   "cell_type": "markdown",
   "metadata": {},
   "source": [
    "# Predicting MLB Strikeout Rates from Velocity and Movement\n",
    "\n",
    "Using data from 2012-2016, we first determine a classification system for different pitches using a clustering algorithm.  Motivation for this work was provided by http://www.sloansportsconference.com/wp-content/uploads/2019/02/Predicting-Major-League-Baseball-Strikeout-Rates-Update.pdf.\n",
    "\n",
    "These features are then used to construct a model to predict strikeout rates using several regression models."
   ]
  },
  {
   "cell_type": "code",
   "execution_count": 1,
   "metadata": {},
   "outputs": [],
   "source": [
    "from pybaseball import statcast, pitching_stats, pitching_stats_range\n",
    "from collections import Counter\n",
    "import numpy as np\n",
    "import pandas as pd\n",
    "from sklearn.preprocessing import MinMaxScaler\n",
    "from sklearn.model_selection import train_test_split, GridSearchCV\n",
    "from sklearn.cluster import KMeans, DBSCAN, AgglomerativeClustering\n",
    "from sklearn.linear_model import LinearRegression\n",
    "from sklearn.ensemble import RandomForestRegressor, AdaBoostRegressor\n",
    "from xgboost import XGBRegressor\n",
    "from sklearn.decomposition import PCA\n",
    "from sklearn.metrics import silhouette_samples, silhouette_score, mean_absolute_error, r2_score\n",
    "import matplotlib.pyplot as plt\n",
    "import warnings\n",
    "warnings.filterwarnings('ignore')\n",
    "%matplotlib inline"
   ]
  },
  {
   "cell_type": "markdown",
   "metadata": {},
   "source": [
    "### get the data\n",
    "\n",
    "The raw data is scraped from statcast and/or pitch fx using the pybaseball module.  We remove \"short relievers\" by keeping only pitchers that have thrown at least 1000 pitches in a season AND that average 10 batters faced per appearance.\n",
    "\n",
    "The data columns used from the pitcher data are:\n",
    "\n",
    "- game_pk: the unique game ID\n",
    "- inning: inning of the pitch\n",
    "- game_year: the year of the data\n",
    "- player_name: the pitcher's name (this is used to join to a separate data pull that is required to extract strikeouts per 9 innings)\n",
    "- batter: used to keep track of batters faced\n",
    "- release_speed: speed of the ball at time of release (feature used for pitch categorization in the clustering algorithm)\n",
    "- pfx_x, pfx_z: movement in the horizontal and vertical directions (features used for pitch categorization in the clustering algorithm)"
   ]
  },
  {
   "cell_type": "code",
   "execution_count": 2,
   "metadata": {},
   "outputs": [],
   "source": [
    "NL_TEAMS = ['Braves', 'Brewers', 'Cardinals', 'Cubs', 'Diamondbacks', 'Dodgers', 'Giants',\n",
    "            'Marlins', 'Mets', 'Nationals', 'Padres', 'Phillies', 'Pirates', 'Reds', 'Rockies']\n",
    "\n",
    "AL_TEAMS = ['Angels', 'Astros', 'Athletics', 'Blue Jays', 'Indians', 'Mariners', 'Orioles', \n",
    "            'Rangers', 'Rays', 'Red Sox', 'Royals', 'Tigers', 'Twins', 'White Sox', 'Yankees']\n",
    "\n",
    "def team_to_league(x):\n",
    "    if x in NL_TEAMS:\n",
    "        return 0\n",
    "    elif x in AL_TEAMS:\n",
    "        return 1\n",
    "    else:\n",
    "        return 2\n",
    "\n",
    "def avg_batters_faced(df, pitcher_id):\n",
    "    \n",
    "    # subset the given pitcher's games\n",
    "    temp_df = df[df['pitcher']==pitcher_id]\n",
    "    \n",
    "    # count number of batters faced in each game\n",
    "    temp_df = temp_df.drop_duplicates(subset=['game_pk', 'inning', 'batter'])\n",
    "    total_batters_faced = len(temp_df)\n",
    "\n",
    "    # count the number of appearances\n",
    "    number_of_games = len(temp_df['game_pk'].unique())\n",
    "    \n",
    "    # return the average number of batters faced per game\n",
    "    return round(total_batters_faced / number_of_games, 1)\n",
    "\n",
    "\n",
    "def get_speed_location_data(start, end):\n",
    "\n",
    "    # get the raw pitch data from statcast\n",
    "    pitch_data = statcast(start_dt=start, end_dt=end)\n",
    "    \n",
    "    # make sure index columns are int\n",
    "    pitch_data['game_pk'] = pitch_data['game_pk'].astype(int)\n",
    "    pitch_data['inning'] = pitch_data['inning'].astype(int)\n",
    "    pitch_data['game_year'] = pitch_data['game_year'].astype(int)\n",
    "    pitch_data['pitcher'] = pitch_data['pitcher'].astype(int)\n",
    "    pitch_data['batter'] = pitch_data['batter'].astype(int)\n",
    "    \n",
    "    # get the data for K rate and to compute the pitcher's strike percentage\n",
    "    strike_data = pitching_stats(start[:4])\n",
    "    strike_data = strike_data[['Season', 'Name', 'Team', 'SO', 'TBF', 'Pitches', 'Strikes']]\n",
    "    strike_data.columns = ['game_year', 'player_name', 'team', 'SO', 'TBF', 'Pitches', 'Strikes']\n",
    "    strike_data['k_rate'] = strike_data['SO'] / strike_data['TBF']\n",
    "    strike_data['strike_pct'] = strike_data['Strikes'] / strike_data['Pitches']\n",
    "    strike_data['league'] = strike_data['team'].apply(team_to_league)\n",
    "    strike_data.drop(['team', 'SO', 'TBF', 'Pitches', 'Strikes'], axis=1, inplace=True)\n",
    "    strike_data['game_year'] = strike_data['game_year'].astype(int)\n",
    "    \n",
    "    # merge the two dataframes together\n",
    "    pitch_data = pd.merge(pitch_data, strike_data, how='inner', on=['game_year', 'player_name'])\n",
    "        \n",
    "    # select the columns that we need\n",
    "    cols_to_keep = ['game_pk', 'inning', 'game_year', 'player_name', 'league', 'pitcher', 'batter', 'release_speed', 'pfx_x', 'pfx_z', 'hc_x', 'hc_y', 'strike_pct', 'k_rate']\n",
    "    pitch_data = pitch_data[cols_to_keep]\n",
    "    \n",
    "    # drop any rows that have no game_pk\n",
    "    pitch_data = pitch_data[~pd.isnull(pitch_data['game_pk'])]\n",
    "    \n",
    "    # make an index for observations \n",
    "    pitch_data['obs_index'] = pitch_data['game_year'].astype(str) + \"_\" + pitch_data['pitcher'].astype(str)\n",
    "    \n",
    "    # get a count of pitchers and number of pitches they threw\n",
    "    pitcher_count = dict(Counter(pitch_data['pitcher']))\n",
    "\n",
    "    # list of pitchers with at least 1000 pitches thrown\n",
    "    pitchers_w_1000pitches = [k for k, v in pitcher_count.items() if v >= 1000]\n",
    "    \n",
    "    # subset the dataframe to those pitchers with at least 1000 pitches thrown\n",
    "    pitch_data = pitch_data[pitch_data['pitcher'].isin(pitchers_w_1000pitches)]\n",
    "    \n",
    "    # list of pitchers with at least 1000 pitches thrown AND average number of batters faced per outing greater than 10\n",
    "    pitchers_no_short = [x for x in pitchers_w_1000pitches if avg_batters_faced(pitch_data, x) >= 10.0]\n",
    "\n",
    "    # subset the dataframe to those pitchers with at least 1000 pitches thrown\n",
    "    pitch_data = pitch_data[pitch_data['pitcher'].isin(pitchers_no_short)]\n",
    "        \n",
    "    # keep only columns we need\n",
    "    pitch_data = pitch_data[['obs_index', 'pitcher', 'player_name', 'league', 'release_speed', 'pfx_x', 'pfx_z', 'hc_x', 'hc_y', 'strike_pct', 'k_rate']]\n",
    "        \n",
    "    return pitch_data"
   ]
  },
  {
   "cell_type": "markdown",
   "metadata": {},
   "source": [
    "### get the data using pybaseball\n",
    "\n",
    "Fill in the start and end dates of the season of interest."
   ]
  },
  {
   "cell_type": "code",
   "execution_count": 7,
   "metadata": {},
   "outputs": [
    {
     "name": "stdout",
     "output_type": "stream",
     "text": [
      "This is a large query, it may take a moment to complete\n",
      "Completed sub-query from 2012-03-28 to 2012-04-02\n",
      "Completed sub-query from 2012-04-03 to 2012-04-08\n",
      "Completed sub-query from 2012-04-09 to 2012-04-14\n",
      "Completed sub-query from 2012-04-15 to 2012-04-20\n",
      "Completed sub-query from 2012-04-21 to 2012-04-26\n",
      "Completed sub-query from 2012-04-27 to 2012-05-02\n",
      "Completed sub-query from 2012-05-03 to 2012-05-08\n",
      "Completed sub-query from 2012-05-09 to 2012-05-14\n",
      "Completed sub-query from 2012-05-15 to 2012-05-20\n",
      "Completed sub-query from 2012-05-21 to 2012-05-26\n",
      "Completed sub-query from 2012-05-27 to 2012-06-01\n",
      "Completed sub-query from 2012-06-02 to 2012-06-07\n",
      "Completed sub-query from 2012-06-08 to 2012-06-13\n",
      "Completed sub-query from 2012-06-14 to 2012-06-19\n",
      "Completed sub-query from 2012-06-20 to 2012-06-25\n",
      "Completed sub-query from 2012-06-26 to 2012-07-01\n",
      "Completed sub-query from 2012-07-02 to 2012-07-07\n",
      "Completed sub-query from 2012-07-08 to 2012-07-13\n",
      "Completed sub-query from 2012-07-14 to 2012-07-19\n",
      "Completed sub-query from 2012-07-20 to 2012-07-25\n",
      "Completed sub-query from 2012-07-26 to 2012-07-31\n",
      "Completed sub-query from 2012-08-01 to 2012-08-06\n",
      "Completed sub-query from 2012-08-07 to 2012-08-12\n",
      "Completed sub-query from 2012-08-13 to 2012-08-18\n",
      "Completed sub-query from 2012-08-19 to 2012-08-24\n",
      "Completed sub-query from 2012-08-25 to 2012-08-30\n",
      "Completed sub-query from 2012-08-31 to 2012-09-05\n",
      "Completed sub-query from 2012-09-06 to 2012-09-11\n",
      "Completed sub-query from 2012-09-12 to 2012-09-17\n",
      "Completed sub-query from 2012-09-18 to 2012-09-23\n",
      "Completed sub-query from 2012-09-24 to 2012-09-29\n",
      "Completed sub-query from 2012-09-30 to 2012-10-03\n",
      "This is a large query, it may take a moment to complete\n",
      "Completed sub-query from 2013-03-31 to 2013-04-05\n",
      "Completed sub-query from 2013-04-06 to 2013-04-11\n",
      "Completed sub-query from 2013-04-12 to 2013-04-17\n",
      "Completed sub-query from 2013-04-18 to 2013-04-23\n",
      "Completed sub-query from 2013-04-24 to 2013-04-29\n",
      "Completed sub-query from 2013-04-30 to 2013-05-05\n",
      "Completed sub-query from 2013-05-06 to 2013-05-11\n",
      "Completed sub-query from 2013-05-12 to 2013-05-17\n",
      "Completed sub-query from 2013-05-18 to 2013-05-23\n",
      "Completed sub-query from 2013-05-24 to 2013-05-29\n",
      "Completed sub-query from 2013-05-30 to 2013-06-04\n",
      "Completed sub-query from 2013-06-05 to 2013-06-10\n",
      "Completed sub-query from 2013-06-11 to 2013-06-16\n",
      "Completed sub-query from 2013-06-17 to 2013-06-22\n",
      "Completed sub-query from 2013-06-23 to 2013-06-28\n",
      "Completed sub-query from 2013-06-29 to 2013-07-04\n",
      "Completed sub-query from 2013-07-05 to 2013-07-10\n",
      "Completed sub-query from 2013-07-11 to 2013-07-16\n",
      "Completed sub-query from 2013-07-17 to 2013-07-22\n",
      "Completed sub-query from 2013-07-23 to 2013-07-28\n",
      "Completed sub-query from 2013-07-29 to 2013-08-03\n",
      "Completed sub-query from 2013-08-04 to 2013-08-09\n",
      "Completed sub-query from 2013-08-10 to 2013-08-15\n",
      "Completed sub-query from 2013-08-16 to 2013-08-21\n",
      "Completed sub-query from 2013-08-22 to 2013-08-27\n",
      "Completed sub-query from 2013-08-28 to 2013-09-02\n",
      "Completed sub-query from 2013-09-03 to 2013-09-08\n",
      "Completed sub-query from 2013-09-09 to 2013-09-14\n",
      "Completed sub-query from 2013-09-15 to 2013-09-20\n",
      "Completed sub-query from 2013-09-21 to 2013-09-26\n",
      "Completed sub-query from 2013-09-27 to 2013-09-30\n",
      "This is a large query, it may take a moment to complete\n",
      "Completed sub-query from 2014-03-22 to 2014-03-27\n",
      "Completed sub-query from 2014-03-28 to 2014-04-02\n",
      "Completed sub-query from 2014-04-03 to 2014-04-08\n",
      "Completed sub-query from 2014-04-09 to 2014-04-14\n",
      "Completed sub-query from 2014-04-15 to 2014-04-20\n",
      "Completed sub-query from 2014-04-21 to 2014-04-26\n",
      "Completed sub-query from 2014-04-27 to 2014-05-02\n",
      "Completed sub-query from 2014-05-03 to 2014-05-08\n",
      "Completed sub-query from 2014-05-09 to 2014-05-14\n",
      "Completed sub-query from 2014-05-15 to 2014-05-20\n",
      "Completed sub-query from 2014-05-21 to 2014-05-26\n",
      "Completed sub-query from 2014-05-27 to 2014-06-01\n",
      "Completed sub-query from 2014-06-02 to 2014-06-07\n",
      "Completed sub-query from 2014-06-08 to 2014-06-13\n",
      "Completed sub-query from 2014-06-14 to 2014-06-19\n",
      "Completed sub-query from 2014-06-20 to 2014-06-25\n",
      "Completed sub-query from 2014-06-26 to 2014-07-01\n",
      "Completed sub-query from 2014-07-02 to 2014-07-07\n",
      "Completed sub-query from 2014-07-08 to 2014-07-13\n",
      "Completed sub-query from 2014-07-14 to 2014-07-19\n",
      "Completed sub-query from 2014-07-20 to 2014-07-25\n",
      "Completed sub-query from 2014-07-26 to 2014-07-31\n",
      "Completed sub-query from 2014-08-01 to 2014-08-06\n",
      "Completed sub-query from 2014-08-07 to 2014-08-12\n",
      "Completed sub-query from 2014-08-13 to 2014-08-18\n",
      "Completed sub-query from 2014-08-19 to 2014-08-24\n",
      "Completed sub-query from 2014-08-25 to 2014-08-30\n",
      "Completed sub-query from 2014-08-31 to 2014-09-05\n",
      "Completed sub-query from 2014-09-06 to 2014-09-11\n",
      "Completed sub-query from 2014-09-12 to 2014-09-17\n",
      "Completed sub-query from 2014-09-18 to 2014-09-23\n",
      "Completed sub-query from 2014-09-24 to 2014-09-28\n",
      "This is a large query, it may take a moment to complete\n",
      "Completed sub-query from 2015-04-05 to 2015-04-10\n",
      "Completed sub-query from 2015-04-11 to 2015-04-16\n",
      "Completed sub-query from 2015-04-17 to 2015-04-22\n",
      "Completed sub-query from 2015-04-23 to 2015-04-28\n",
      "Completed sub-query from 2015-04-29 to 2015-05-04\n",
      "Completed sub-query from 2015-05-05 to 2015-05-10\n",
      "Completed sub-query from 2015-05-11 to 2015-05-16\n",
      "Completed sub-query from 2015-05-17 to 2015-05-22\n",
      "Completed sub-query from 2015-05-23 to 2015-05-28\n",
      "Completed sub-query from 2015-05-29 to 2015-06-03\n",
      "Completed sub-query from 2015-06-04 to 2015-06-09\n",
      "Completed sub-query from 2015-06-10 to 2015-06-15\n",
      "Completed sub-query from 2015-06-16 to 2015-06-21\n",
      "Completed sub-query from 2015-06-22 to 2015-06-27\n",
      "Completed sub-query from 2015-06-28 to 2015-07-03\n",
      "Completed sub-query from 2015-07-04 to 2015-07-09\n",
      "Completed sub-query from 2015-07-10 to 2015-07-15\n",
      "Completed sub-query from 2015-07-16 to 2015-07-21\n",
      "Completed sub-query from 2015-07-22 to 2015-07-27\n",
      "Completed sub-query from 2015-07-28 to 2015-08-02\n",
      "Completed sub-query from 2015-08-03 to 2015-08-08\n",
      "Completed sub-query from 2015-08-09 to 2015-08-14\n",
      "Completed sub-query from 2015-08-15 to 2015-08-20\n",
      "Completed sub-query from 2015-08-21 to 2015-08-26\n",
      "Completed sub-query from 2015-08-27 to 2015-09-01\n",
      "Completed sub-query from 2015-09-02 to 2015-09-07\n",
      "Completed sub-query from 2015-09-08 to 2015-09-13\n",
      "Completed sub-query from 2015-09-14 to 2015-09-19\n",
      "Completed sub-query from 2015-09-20 to 2015-09-25\n",
      "Completed sub-query from 2015-09-26 to 2015-10-01\n",
      "Completed sub-query from 2015-10-02 to 2015-10-04\n",
      "This is a large query, it may take a moment to complete\n",
      "Completed sub-query from 2016-04-03 to 2016-04-08\n",
      "Completed sub-query from 2016-04-09 to 2016-04-14\n",
      "Completed sub-query from 2016-04-15 to 2016-04-20\n",
      "Completed sub-query from 2016-04-21 to 2016-04-26\n",
      "Completed sub-query from 2016-04-27 to 2016-05-02\n",
      "Completed sub-query from 2016-05-03 to 2016-05-08\n",
      "Completed sub-query from 2016-05-09 to 2016-05-14\n",
      "Completed sub-query from 2016-05-15 to 2016-05-20\n",
      "Completed sub-query from 2016-05-21 to 2016-05-26\n",
      "Completed sub-query from 2016-05-27 to 2016-06-01\n",
      "Completed sub-query from 2016-06-02 to 2016-06-07\n",
      "Completed sub-query from 2016-06-08 to 2016-06-13\n",
      "Completed sub-query from 2016-06-14 to 2016-06-19\n",
      "Completed sub-query from 2016-06-20 to 2016-06-25\n",
      "Completed sub-query from 2016-06-26 to 2016-07-01\n",
      "Completed sub-query from 2016-07-02 to 2016-07-07\n",
      "Completed sub-query from 2016-07-08 to 2016-07-13\n",
      "Completed sub-query from 2016-07-14 to 2016-07-19\n",
      "Completed sub-query from 2016-07-20 to 2016-07-25\n",
      "Completed sub-query from 2016-07-26 to 2016-07-31\n",
      "Completed sub-query from 2016-08-01 to 2016-08-06\n",
      "Completed sub-query from 2016-08-07 to 2016-08-12\n",
      "Completed sub-query from 2016-08-13 to 2016-08-18\n",
      "Completed sub-query from 2016-08-19 to 2016-08-24\n",
      "Completed sub-query from 2016-08-25 to 2016-08-30\n",
      "Completed sub-query from 2016-08-31 to 2016-09-05\n",
      "Completed sub-query from 2016-09-06 to 2016-09-11\n",
      "Completed sub-query from 2016-09-12 to 2016-09-17\n",
      "Completed sub-query from 2016-09-18 to 2016-09-23\n",
      "Completed sub-query from 2016-09-24 to 2016-09-29\n",
      "Completed sub-query from 2016-09-30 to 2016-10-02\n",
      "Shape of training data: (2108087, 11)\n",
      "Number of unique pitchers in training data: 355\n",
      "Number of unique observations in training data: 884\n"
     ]
    }
   ],
   "source": [
    "train_data_dates = [('2012-03-28', '2012-10-03'),\n",
    "                    ('2013-03-31', '2013-09-30'),\n",
    "                    ('2014-03-22', '2014-09-28'),\n",
    "                    ('2015-04-05', '2015-10-04'),\n",
    "                    ('2016-04-03', '2016-10-02')]\n",
    "\n",
    "train_data_list = []\n",
    "for dates in train_data_dates:\n",
    "    df = get_speed_location_data(start=dates[0], end=dates[1])\n",
    "    train_data_list.append(df)\n",
    "    \n",
    "train_data = pd.concat(train_data_list)\n",
    "#train_data.to_csv(\"/tmp/KRatePrediction/data/train.csv\", index=False)\n",
    "print(f\"Shape of training data: {train_data.shape}\")\n",
    "print(f\"Number of unique pitchers in training data: {len(train_data['pitcher'].unique())}\")\n",
    "print(f\"Number of unique observations in training data: {len(train_data['obs_index'].unique())}\")"
   ]
  },
  {
   "cell_type": "code",
   "execution_count": 3,
   "metadata": {},
   "outputs": [
    {
     "name": "stdout",
     "output_type": "stream",
     "text": [
      "This is a large query, it may take a moment to complete\n",
      "Completed sub-query from 2017-04-02 to 2017-04-07\n",
      "Completed sub-query from 2017-04-08 to 2017-04-13\n",
      "Completed sub-query from 2017-04-14 to 2017-04-19\n",
      "Completed sub-query from 2017-04-20 to 2017-04-25\n",
      "Completed sub-query from 2017-04-26 to 2017-05-01\n",
      "Completed sub-query from 2017-05-02 to 2017-05-07\n",
      "Completed sub-query from 2017-05-08 to 2017-05-13\n",
      "Completed sub-query from 2017-05-14 to 2017-05-19\n",
      "Completed sub-query from 2017-05-20 to 2017-05-25\n",
      "Completed sub-query from 2017-05-26 to 2017-05-31\n",
      "Completed sub-query from 2017-06-01 to 2017-06-06\n",
      "Completed sub-query from 2017-06-07 to 2017-06-12\n",
      "Completed sub-query from 2017-06-13 to 2017-06-18\n",
      "Completed sub-query from 2017-06-19 to 2017-06-24\n",
      "Completed sub-query from 2017-06-25 to 2017-06-30\n",
      "Completed sub-query from 2017-07-01 to 2017-07-06\n",
      "Completed sub-query from 2017-07-07 to 2017-07-12\n",
      "Completed sub-query from 2017-07-13 to 2017-07-18\n",
      "Completed sub-query from 2017-07-19 to 2017-07-24\n",
      "Completed sub-query from 2017-07-25 to 2017-07-30\n",
      "Completed sub-query from 2017-07-31 to 2017-08-05\n",
      "Completed sub-query from 2017-08-06 to 2017-08-11\n",
      "Completed sub-query from 2017-08-12 to 2017-08-17\n",
      "Completed sub-query from 2017-08-18 to 2017-08-23\n",
      "Completed sub-query from 2017-08-24 to 2017-08-29\n",
      "Completed sub-query from 2017-08-30 to 2017-09-04\n",
      "Completed sub-query from 2017-09-05 to 2017-09-10\n",
      "Completed sub-query from 2017-09-11 to 2017-09-16\n",
      "Completed sub-query from 2017-09-17 to 2017-09-22\n",
      "Completed sub-query from 2017-09-23 to 2017-09-28\n",
      "Completed sub-query from 2017-09-29 to 2017-10-01\n",
      "Shape of test data: (419462, 11)\n",
      "Number of unique pitchers in test data: 190\n",
      "Number of unique observations in test data: 190\n"
     ]
    }
   ],
   "source": [
    "test_data_dates = [('2017-04-02', '2017-10-01')]\n",
    "\n",
    "test_data_list = []\n",
    "for dates in test_data_dates:\n",
    "    df = get_speed_location_data(start=dates[0], end=dates[1])\n",
    "    test_data_list.append(df)\n",
    "    \n",
    "test_data = pd.concat(test_data_list)\n",
    "#test_data.to_csv(\"/tmp/KRatePrediction/data/test.csv\", index=False)\n",
    "print(f\"Shape of test data: {test_data.shape}\")\n",
    "print(f\"Number of unique pitchers in test data: {len(test_data['pitcher'].unique())}\")\n",
    "print(f\"Number of unique observations in test data: {len(test_data['obs_index'].unique())}\")"
   ]
  },
  {
   "cell_type": "markdown",
   "metadata": {},
   "source": [
    "### the pitch type cluster analysis"
   ]
  },
  {
   "cell_type": "markdown",
   "metadata": {},
   "source": [
    "#### select the features that we use in the clustering "
   ]
  },
  {
   "cell_type": "code",
   "execution_count": 8,
   "metadata": {},
   "outputs": [
    {
     "name": "stdout",
     "output_type": "stream",
     "text": [
      "Number of pitches in the clustering data: 399121\n",
      "\n"
     ]
    },
    {
     "data": {
      "text/html": [
       "<div>\n",
       "<style scoped>\n",
       "    .dataframe tbody tr th:only-of-type {\n",
       "        vertical-align: middle;\n",
       "    }\n",
       "\n",
       "    .dataframe tbody tr th {\n",
       "        vertical-align: top;\n",
       "    }\n",
       "\n",
       "    .dataframe thead th {\n",
       "        text-align: right;\n",
       "    }\n",
       "</style>\n",
       "<table border=\"1\" class=\"dataframe\">\n",
       "  <thead>\n",
       "    <tr style=\"text-align: right;\">\n",
       "      <th></th>\n",
       "      <th>hc_x</th>\n",
       "      <th>hc_y</th>\n",
       "      <th>pfx_x</th>\n",
       "      <th>pfx_z</th>\n",
       "      <th>release_speed</th>\n",
       "    </tr>\n",
       "  </thead>\n",
       "  <tbody>\n",
       "    <tr>\n",
       "      <th>6841</th>\n",
       "      <td>124.50</td>\n",
       "      <td>120.48</td>\n",
       "      <td>0.096842</td>\n",
       "      <td>0.141233</td>\n",
       "      <td>82.6</td>\n",
       "    </tr>\n",
       "    <tr>\n",
       "      <th>6844</th>\n",
       "      <td>192.77</td>\n",
       "      <td>83.33</td>\n",
       "      <td>0.969417</td>\n",
       "      <td>1.323733</td>\n",
       "      <td>90.7</td>\n",
       "    </tr>\n",
       "    <tr>\n",
       "      <th>6847</th>\n",
       "      <td>144.58</td>\n",
       "      <td>156.63</td>\n",
       "      <td>1.528867</td>\n",
       "      <td>1.024167</td>\n",
       "      <td>93.2</td>\n",
       "    </tr>\n",
       "    <tr>\n",
       "      <th>6848</th>\n",
       "      <td>132.53</td>\n",
       "      <td>120.48</td>\n",
       "      <td>-0.163400</td>\n",
       "      <td>0.323267</td>\n",
       "      <td>82.0</td>\n",
       "    </tr>\n",
       "    <tr>\n",
       "      <th>6852</th>\n",
       "      <td>120.48</td>\n",
       "      <td>170.68</td>\n",
       "      <td>1.364650</td>\n",
       "      <td>0.846433</td>\n",
       "      <td>93.2</td>\n",
       "    </tr>\n",
       "  </tbody>\n",
       "</table>\n",
       "</div>"
      ],
      "text/plain": [
       "        hc_x    hc_y     pfx_x     pfx_z  release_speed\n",
       "6841  124.50  120.48  0.096842  0.141233           82.6\n",
       "6844  192.77   83.33  0.969417  1.323733           90.7\n",
       "6847  144.58  156.63  1.528867  1.024167           93.2\n",
       "6848  132.53  120.48 -0.163400  0.323267           82.0\n",
       "6852  120.48  170.68  1.364650  0.846433           93.2"
      ]
     },
     "execution_count": 8,
     "metadata": {},
     "output_type": "execute_result"
    }
   ],
   "source": [
    "cluster_train_data = train_data[['hc_x', 'hc_y', 'pfx_x', 'pfx_z', 'release_speed']]\n",
    "cluster_train_data.dropna(inplace=True)\n",
    "\n",
    "print(f\"Number of pitches in the clustering data: {cluster_train_data.shape[0]}\\n\")\n",
    "cluster_train_data.head()"
   ]
  },
  {
   "cell_type": "markdown",
   "metadata": {},
   "source": [
    "#### standardize the data: scale the features to be between 0 and 1"
   ]
  },
  {
   "cell_type": "code",
   "execution_count": 18,
   "metadata": {},
   "outputs": [
    {
     "data": {
      "text/html": [
       "<div>\n",
       "<style scoped>\n",
       "    .dataframe tbody tr th:only-of-type {\n",
       "        vertical-align: middle;\n",
       "    }\n",
       "\n",
       "    .dataframe tbody tr th {\n",
       "        vertical-align: top;\n",
       "    }\n",
       "\n",
       "    .dataframe thead th {\n",
       "        text-align: right;\n",
       "    }\n",
       "</style>\n",
       "<table border=\"1\" class=\"dataframe\">\n",
       "  <thead>\n",
       "    <tr style=\"text-align: right;\">\n",
       "      <th></th>\n",
       "      <th>hc_x</th>\n",
       "      <th>hc_y</th>\n",
       "      <th>pfx_x</th>\n",
       "      <th>pfx_z</th>\n",
       "      <th>release_speed</th>\n",
       "    </tr>\n",
       "  </thead>\n",
       "  <tbody>\n",
       "    <tr>\n",
       "      <th>0</th>\n",
       "      <td>0.497967</td>\n",
       "      <td>0.486570</td>\n",
       "      <td>0.501205</td>\n",
       "      <td>0.460140</td>\n",
       "      <td>0.651786</td>\n",
       "    </tr>\n",
       "    <tr>\n",
       "      <th>1</th>\n",
       "      <td>0.775510</td>\n",
       "      <td>0.333990</td>\n",
       "      <td>0.669167</td>\n",
       "      <td>0.665670</td>\n",
       "      <td>0.796429</td>\n",
       "    </tr>\n",
       "    <tr>\n",
       "      <th>2</th>\n",
       "      <td>0.579600</td>\n",
       "      <td>0.635042</td>\n",
       "      <td>0.776855</td>\n",
       "      <td>0.613602</td>\n",
       "      <td>0.841071</td>\n",
       "    </tr>\n",
       "    <tr>\n",
       "      <th>3</th>\n",
       "      <td>0.530612</td>\n",
       "      <td>0.486570</td>\n",
       "      <td>0.451112</td>\n",
       "      <td>0.491779</td>\n",
       "      <td>0.641071</td>\n",
       "    </tr>\n",
       "    <tr>\n",
       "      <th>4</th>\n",
       "      <td>0.481625</td>\n",
       "      <td>0.692747</td>\n",
       "      <td>0.745245</td>\n",
       "      <td>0.582711</td>\n",
       "      <td>0.841071</td>\n",
       "    </tr>\n",
       "  </tbody>\n",
       "</table>\n",
       "</div>"
      ],
      "text/plain": [
       "       hc_x      hc_y     pfx_x     pfx_z  release_speed\n",
       "0  0.497967  0.486570  0.501205  0.460140       0.651786\n",
       "1  0.775510  0.333990  0.669167  0.665670       0.796429\n",
       "2  0.579600  0.635042  0.776855  0.613602       0.841071\n",
       "3  0.530612  0.486570  0.451112  0.491779       0.641071\n",
       "4  0.481625  0.692747  0.745245  0.582711       0.841071"
      ]
     },
     "execution_count": 18,
     "metadata": {},
     "output_type": "execute_result"
    }
   ],
   "source": [
    "hc_x_scaler = MinMaxScaler()\n",
    "hc_x = cluster_train_data['hc_x'].as_matrix().reshape(-1, 1)\n",
    "hc_x_scaled = pd.DataFrame(hc_x_scaler.fit_transform(hc_x))\n",
    "\n",
    "hc_y_scaler = MinMaxScaler()\n",
    "hc_y = cluster_train_data['hc_y'].as_matrix().reshape(-1, 1)\n",
    "hc_y_scaled = pd.DataFrame(hc_y_scaler.fit_transform(hc_y))\n",
    "\n",
    "pfx_x = cluster_train_data['pfx_x'].as_matrix().reshape(-1, 1)\n",
    "pfx_x_scaled = pd.DataFrame(pfx_x_scaler.fit_transform(pfx_x))\n",
    "\n",
    "pfx_z_scaler = MinMaxScaler()\n",
    "pfx_z = cluster_train_data['pfx_z'].as_matrix().reshape(-1, 1)\n",
    "pfx_z_scaled = pd.DataFrame(pfx_z_scaler.fit_transform(pfx_z))\n",
    "\n",
    "release_speed_scaler = MinMaxScaler()\n",
    "release_speed = cluster_train_data['release_speed'].as_matrix().reshape(-1, 1)\n",
    "release_speed_scaled = pd.DataFrame(release_speed_scaler.fit_transform(release_speed))\n",
    "\n",
    "cluster_train_data_scaled = pd.concat([hc_x_scaled, hc_y_scaled, pfx_x_scaled, pfx_z_scaled, release_speed_scaled], axis=1, join='inner')\n",
    "\n",
    "cluster_train_data_scaled.columns = ['hc_x', 'hc_y', 'pfx_x', 'pfx_z', 'release_speed']\n",
    "cluster_train_data_scaled.head()"
   ]
  },
  {
   "cell_type": "markdown",
   "metadata": {},
   "source": [
    "#### DBSCAN"
   ]
  },
  {
   "cell_type": "raw",
   "metadata": {},
   "source": [
    "db = DBSCAN(algorithm='ball_tree', n_jobs=-1).fit(cluster_train_data_scaled)\n",
    "labels = db.labels_\n",
    "k = len(set(labels)) - (1 if -1 in labels else 0)\n",
    "n_noise = list(labels).count(-1)\n",
    "\n",
    "print(f\"Optimal number of clusters: {k}\")\n",
    "print(f\"Number of noise poitns: {n_noise}\")"
   ]
  },
  {
   "cell_type": "raw",
   "metadata": {},
   "source": [
    "dbscan_dist = dict(Counter(pitch_cluster_list))\n",
    "dbscan_x = list(dbscan_dist.keys())\n",
    "dbscan_y = list(dbscan_dist.values())\n",
    "plt.bar(dbscan_x, dbscan_y, alpha=0.5)\n",
    "plt.bar([3,4,5,6,7,8,9], [105,287,235,114,79,42,32], alpha=0.5)\n",
    "plt.show()"
   ]
  },
  {
   "cell_type": "raw",
   "metadata": {},
   "source": [
    "dbscan_dist = dict(Counter(pitch_cluster_list))\n",
    "dbscan_x = list(dbscan_dist.keys())\n",
    "dbscan_y = list(dbscan_dist.values())\n",
    "plt.bar(dbscan_x, dbscan_y, alpha=0.5)\n",
    "plt.bar([3,4,5,6,7,8,9], [105,287,235,114,79,42,32], alpha=0.5)\n",
    "plt.show()"
   ]
  },
  {
   "cell_type": "markdown",
   "metadata": {},
   "source": [
    "#### k-means with Elbow method and Silhouette averages to find optimal k"
   ]
  },
  {
   "cell_type": "raw",
   "metadata": {},
   "source": [
    "# range of number of clusters\n",
    "num_clusters = [3, 4, 5, 6, 7, 8, 9, 10, 11, 12, 13, 14, 15, 16, 17, 18, 19, 20]  #range(2, 10)\n",
    "\n",
    "# initiate the models\n",
    "kmeans = []\n",
    "for i in num_clusters:\n",
    "    print(f\"initializing a model for {i} clusters\")\n",
    "    kmeans.append(KMeans(n_clusters=i, n_jobs=-1))\n",
    "\n",
    "# compute the scores for each fit\n",
    "score = []\n",
    "for i, k in enumerate(num_clusters):\n",
    "    print(f\"fitting the data to {k} clusters\")\n",
    "    score.append(kmeans[i].fit(cluster_train_data_scaled).score(cluster_train_data_scaled))\n",
    "\n",
    "# cluster labels\n",
    "cluster_labels = []\n",
    "for i, k in enumerate(num_clusters):\n",
    "    print(f\"labeling the data for {k} clusters\")\n",
    "    cluster_labels.append(kmeans[i].fit_predict(cluster_train_data_scaled))\n",
    "\n",
    "# silhouette avgs\n",
    "silhouette_avgs = []\n",
    "for i, k in enumerate(num_clusters):\n",
    "    print(f\"computing silhouette avgs for {k} clusters\")\n",
    "    silhouette_avgs.append(silhouette_score(cluster_train_data_scaled, cluster_labels[i]))"
   ]
  },
  {
   "cell_type": "raw",
   "metadata": {},
   "source": [
    "plt.plot(num_clusters, score)\n",
    "plt.title(\"Elbow Curve\")\n",
    "plt.xlabel(\"Number of Clusters\")\n",
    "plt.ylabel(\"K-Means Score\")\n",
    "plt.show()"
   ]
  },
  {
   "cell_type": "raw",
   "metadata": {},
   "source": [
    "plt.plot(num_clusters, silhouette_avgs)\n",
    "plt.title(\"Silhouette Averages\")\n",
    "plt.xlabel(\"Number of Clusters\")\n",
    "plt.ylabel(\"Silouette Average\")\n",
    "plt.show()"
   ]
  },
  {
   "cell_type": "markdown",
   "metadata": {},
   "source": [
    "#### k-means with Gap statistic to find optimal k"
   ]
  },
  {
   "cell_type": "code",
   "execution_count": 19,
   "metadata": {},
   "outputs": [
    {
     "name": "stdout",
     "output_type": "stream",
     "text": [
      "The optimal number of clusters is: 8\n"
     ]
    }
   ],
   "source": [
    "def optimalK(data, nrefs=3, maxClusters=15):\n",
    "    \"\"\"\n",
    "    Calculates KMeans optimal K using Gap Statistic from Tibshirani, Walther, Hastie\n",
    "    Params:\n",
    "        data: ndarry of shape (n_samples, n_features)\n",
    "        nrefs: number of sample reference datasets to create\n",
    "        maxClusters: Maximum number of clusters to test for\n",
    "    Returns: (gaps, optimalK)\n",
    "    \"\"\"\n",
    "    gaps = np.zeros((len(range(1, maxClusters)),))\n",
    "    resultsdf = pd.DataFrame({'clusterCount':[], 'gap':[]})\n",
    "    for gap_index, k in enumerate(range(1, maxClusters)):\n",
    "\n",
    "        # Holder for reference dispersion results\n",
    "        refDisps = np.zeros(nrefs)\n",
    "\n",
    "        # For n references, generate random sample and perform kmeans getting resulting dispersion of each loop\n",
    "        for i in range(nrefs):\n",
    "            \n",
    "            # Create new random reference set\n",
    "            randomReference = np.random.random_sample(size=data.shape)\n",
    "            \n",
    "            # Fit to it\n",
    "            km = KMeans(k, n_jobs=-1)\n",
    "            km.fit(randomReference)\n",
    "            \n",
    "            refDisp = km.inertia_\n",
    "            refDisps[i] = refDisp\n",
    "\n",
    "        # Fit cluster to original data and create dispersion\n",
    "        km = KMeans(k)\n",
    "        km.fit(data)\n",
    "        \n",
    "        origDisp = km.inertia_\n",
    "\n",
    "        # Calculate gap statistic\n",
    "        gap = np.log(np.mean(refDisps)) - np.log(origDisp)\n",
    "\n",
    "        # Assign this loop's gap statistic to gaps\n",
    "        gaps[gap_index] = gap\n",
    "        \n",
    "        resultsdf = resultsdf.append({'clusterCount':k, 'gap':gap}, ignore_index=True)\n",
    "\n",
    "    return (gaps.argmax() + 1, resultsdf)  # Plus 1 because index of 0 means 1 cluster is optimal, index 2 = 3 clusters are optimal\n",
    "\n",
    "k, _ = optimalK(cluster_train_data_scaled)\n",
    "print(f\"The optimal number of clusters is: {k}\")"
   ]
  },
  {
   "cell_type": "code",
   "execution_count": 20,
   "metadata": {},
   "outputs": [
    {
     "name": "stdout",
     "output_type": "stream",
     "text": [
      "-15494.293865722495\n"
     ]
    }
   ],
   "source": [
    "# perform k-means clustering (with number of clusters determined from elbow method)\n",
    "kmeans = KMeans(n_clusters=k, n_jobs=-1).fit(cluster_train_data_scaled)\n",
    "\n",
    "print(kmeans.score(cluster_train_data_scaled))"
   ]
  },
  {
   "cell_type": "markdown",
   "metadata": {},
   "source": [
    "### categorize pitches using k-means clusters"
   ]
  },
  {
   "cell_type": "code",
   "execution_count": 27,
   "metadata": {},
   "outputs": [
    {
     "data": {
      "text/html": [
       "<div>\n",
       "<style scoped>\n",
       "    .dataframe tbody tr th:only-of-type {\n",
       "        vertical-align: middle;\n",
       "    }\n",
       "\n",
       "    .dataframe tbody tr th {\n",
       "        vertical-align: top;\n",
       "    }\n",
       "\n",
       "    .dataframe thead th {\n",
       "        text-align: right;\n",
       "    }\n",
       "</style>\n",
       "<table border=\"1\" class=\"dataframe\">\n",
       "  <thead>\n",
       "    <tr style=\"text-align: right;\">\n",
       "      <th></th>\n",
       "      <th>obs_index</th>\n",
       "      <th>player_name</th>\n",
       "      <th>hc_x_scaled</th>\n",
       "      <th>hc_y_scaled</th>\n",
       "      <th>pfx_x_scaled</th>\n",
       "      <th>pfx_z_scaled</th>\n",
       "      <th>release_speed_scaled</th>\n",
       "      <th>cluster_number</th>\n",
       "    </tr>\n",
       "  </thead>\n",
       "  <tbody>\n",
       "    <tr>\n",
       "      <th>4950</th>\n",
       "      <td>2017_656756</td>\n",
       "      <td>Jordan Montgomery</td>\n",
       "      <td>31.719742</td>\n",
       "      <td>20.020533</td>\n",
       "      <td>0.475693</td>\n",
       "      <td>0.467190</td>\n",
       "      <td>0.621429</td>\n",
       "      <td>3</td>\n",
       "    </tr>\n",
       "    <tr>\n",
       "      <th>4953</th>\n",
       "      <td>2017_656756</td>\n",
       "      <td>Jordan Montgomery</td>\n",
       "      <td>30.158653</td>\n",
       "      <td>26.364608</td>\n",
       "      <td>0.501101</td>\n",
       "      <td>0.484815</td>\n",
       "      <td>0.603571</td>\n",
       "      <td>7</td>\n",
       "    </tr>\n",
       "    <tr>\n",
       "      <th>4955</th>\n",
       "      <td>2017_656756</td>\n",
       "      <td>Jordan Montgomery</td>\n",
       "      <td>21.864285</td>\n",
       "      <td>32.091656</td>\n",
       "      <td>0.666584</td>\n",
       "      <td>0.678526</td>\n",
       "      <td>0.785714</td>\n",
       "      <td>7</td>\n",
       "    </tr>\n",
       "    <tr>\n",
       "      <th>4956</th>\n",
       "      <td>2017_656756</td>\n",
       "      <td>Jordan Montgomery</td>\n",
       "      <td>27.717888</td>\n",
       "      <td>31.651916</td>\n",
       "      <td>0.424202</td>\n",
       "      <td>0.589501</td>\n",
       "      <td>0.703571</td>\n",
       "      <td>7</td>\n",
       "    </tr>\n",
       "    <tr>\n",
       "      <th>4959</th>\n",
       "      <td>2017_656756</td>\n",
       "      <td>Jordan Montgomery</td>\n",
       "      <td>26.691919</td>\n",
       "      <td>12.159094</td>\n",
       "      <td>0.438388</td>\n",
       "      <td>0.492880</td>\n",
       "      <td>0.594643</td>\n",
       "      <td>3</td>\n",
       "    </tr>\n",
       "  </tbody>\n",
       "</table>\n",
       "</div>"
      ],
      "text/plain": [
       "        obs_index        player_name  hc_x_scaled  hc_y_scaled  pfx_x_scaled  \\\n",
       "4950  2017_656756  Jordan Montgomery    31.719742    20.020533      0.475693   \n",
       "4953  2017_656756  Jordan Montgomery    30.158653    26.364608      0.501101   \n",
       "4955  2017_656756  Jordan Montgomery    21.864285    32.091656      0.666584   \n",
       "4956  2017_656756  Jordan Montgomery    27.717888    31.651916      0.424202   \n",
       "4959  2017_656756  Jordan Montgomery    26.691919    12.159094      0.438388   \n",
       "\n",
       "      pfx_z_scaled  release_speed_scaled  cluster_number  \n",
       "4950      0.467190              0.621429               3  \n",
       "4953      0.484815              0.603571               7  \n",
       "4955      0.678526              0.785714               7  \n",
       "4956      0.589501              0.703571               7  \n",
       "4959      0.492880              0.594643               3  "
      ]
     },
     "execution_count": 27,
     "metadata": {},
     "output_type": "execute_result"
    }
   ],
   "source": [
    "def categorize_pitches(df):\n",
    "\n",
    "    df = df[['obs_index', 'player_name', 'hc_x', 'hc_y', 'pfx_x', 'pfx_z', 'release_speed']]\n",
    "\n",
    "    df['hc_x_scaled'] = pfx_x_scaler.transform(df['hc_x'].as_matrix().reshape(-1,1))\n",
    "    df['hc_y_scaled'] = pfx_z_scaler.transform(df['hc_y'].as_matrix().reshape(-1,1))\n",
    "    df['pfx_x_scaled'] = pfx_x_scaler.transform(df['pfx_x'].as_matrix().reshape(-1,1))\n",
    "    df['pfx_z_scaled'] = pfx_z_scaler.transform(df['pfx_z'].as_matrix().reshape(-1,1))\n",
    "    df['release_speed_scaled'] = release_speed_scaler.transform(df['release_speed'].as_matrix().reshape(-1,1))\n",
    "\n",
    "    df.dropna(inplace=True)\n",
    "\n",
    "    df = df[['obs_index', 'player_name', 'hc_x_scaled', 'hc_y_scaled', 'pfx_x_scaled', 'pfx_z_scaled', 'release_speed_scaled']]\n",
    "\n",
    "    df['cluster_number'] = kmeans.predict(df[['hc_x_scaled', 'hc_y_scaled', 'pfx_x_scaled', 'pfx_z_scaled', 'release_speed_scaled']]) \n",
    "    \n",
    "    return df\n",
    "\n",
    "train_data_categorized = categorize_pitches(train_data)\n",
    "\n",
    "test_data_categorized = categorize_pitches(test_data)\n",
    "\n",
    "test_data_categorized.head()"
   ]
  },
  {
   "cell_type": "markdown",
   "metadata": {},
   "source": [
    "### turn counts of cluster types into features"
   ]
  },
  {
   "cell_type": "code",
   "execution_count": 28,
   "metadata": {},
   "outputs": [
    {
     "name": "stdout",
     "output_type": "stream",
     "text": [
      "(884, 6)\n",
      "              0     1   2      3     5      7\n",
      "2012_502706 NaN   NaN NaN  180.0  17.0  325.0\n",
      "2012_133225 NaN   NaN NaN  167.0   NaN  338.0\n",
      "2012_456167 NaN  30.0 NaN   88.0   NaN  134.0\n",
      "2012_477132 NaN  11.0 NaN  142.0   NaN  450.0\n",
      "2012_285064 NaN  14.0 NaN  180.0   NaN  365.0\n",
      "(190, 6)\n",
      "              0     1   2      3     5      7\n",
      "2017_656756 NaN  16.0 NaN  157.0   NaN  270.0\n",
      "2017_592170 NaN  23.0 NaN  145.0   NaN  215.0\n",
      "2017_572020 NaN   NaN NaN  122.0   NaN  225.0\n",
      "2017_606131 NaN   NaN NaN  147.0   NaN  368.0\n",
      "2017_621389 NaN  27.0 NaN  193.0  29.0  323.0\n"
     ]
    }
   ],
   "source": [
    "def convert_counts_to_features(df, thresh):\n",
    "    \n",
    "    obs_list = list(df['obs_index'].unique())\n",
    "\n",
    "    pitch_counts_df = pd.DataFrame(columns=[0,1,2])\n",
    "\n",
    "    for i, obs in enumerate(obs_list):\n",
    "\n",
    "        temp_df = df[df['obs_index']==obs]\n",
    "\n",
    "        pitch_df = pd.DataFrame(dict(Counter(temp_df['cluster_number'])), index=[obs])\n",
    "\n",
    "        pitch_counts_df = pitch_counts_df.append(pitch_df)\n",
    "        \n",
    "    # if number of pitches is below thresh, replace count with NaN\n",
    "    def num_pitches_thresh(x):\n",
    "        if x <= thresh:\n",
    "            return np.nan\n",
    "        else:\n",
    "            return x\n",
    "    for col in pitch_counts_df.columns.tolist():\n",
    "        pitch_counts_df[col] = pitch_counts_df[col].apply(num_pitches_thresh)\n",
    "    return pitch_counts_df\n",
    "\n",
    "train_pitch_counts_df = convert_counts_to_features(train_data_categorized, thresh=10)\n",
    "\n",
    "test_pitch_counts_df = convert_counts_to_features(test_data_categorized, thresh=10)\n",
    "\n",
    "print(train_pitch_counts_df.shape)\n",
    "print(train_pitch_counts_df.head())\n",
    "\n",
    "print(test_pitch_counts_df.shape)\n",
    "print(test_pitch_counts_df.head())"
   ]
  },
  {
   "cell_type": "markdown",
   "metadata": {},
   "source": [
    "#### count the number of used clusters for each observation\n",
    "\n",
    "For comparison to the paper."
   ]
  },
  {
   "cell_type": "raw",
   "metadata": {},
   "source": [
    "train_pitch_counts_df['num_clusters'] = 0\n",
    "\n",
    "for i in range(len(train_pitch_counts_df)):\n",
    "    \n",
    "    train_pitch_counts_df['num_clusters'].iloc[i] = pd.notnull(train_pitch_counts_df.iloc[i,0]) + pd.notnull(train_pitch_counts_df.iloc[i,1]) +\\\n",
    "                                                    pd.notnull(train_pitch_counts_df.iloc[i,2]) + pd.notnull(train_pitch_counts_df.iloc[i,3]) +\\\n",
    "                                                    pd.notnull(train_pitch_counts_df.iloc[i,4]) + pd.notnull(train_pitch_counts_df.iloc[i,5]) +\\\n",
    "                                                    pd.notnull(train_pitch_counts_df.iloc[i,6]) + pd.notnull(train_pitch_counts_df.iloc[i,7]) +\\\n",
    "                                                    pd.notnull(train_pitch_counts_df.iloc[i,8])\n",
    "\n",
    "\n",
    "train_pitch_counts_df.head()"
   ]
  },
  {
   "cell_type": "raw",
   "metadata": {},
   "source": [
    "cluster_count = dict(Counter(train_pitch_counts_df['num_clusters']))\n",
    "plt.bar(list(cluster_count.keys()), list(cluster_count.values()), alpha=0.5)\n",
    "plt.bar([3, 4, 5, 6, 7, 8 , 9], [105, 287, 235, 114, 79, 42, 32], alpha=0.5)\n",
    "plt.show()"
   ]
  },
  {
   "cell_type": "markdown",
   "metadata": {},
   "source": [
    "### Train the Regression Models"
   ]
  },
  {
   "cell_type": "markdown",
   "metadata": {},
   "source": [
    "#### First, train a baseline model with just release_speed and strike_pct as features"
   ]
  },
  {
   "cell_type": "code",
   "execution_count": 29,
   "metadata": {},
   "outputs": [
    {
     "name": "stdout",
     "output_type": "stream",
     "text": [
      "Mean K rate for training data: 0.19\n",
      "Mean K rate for testing data: 0.21\n",
      "Mean Absolute Error: 0.03523938609701695\n",
      "Adjusted R^2: 0.07326303827333003\n"
     ]
    }
   ],
   "source": [
    "base_train_data = train_data[['obs_index', 'league', 'k_rate', 'release_speed', 'strike_pct']]\n",
    "base_train_data = pd.DataFrame(base_train_data.groupby(['obs_index', 'league', 'k_rate', 'strike_pct'])['release_speed'].mean())\n",
    "base_train_data.reset_index(inplace=True, drop=False)\n",
    "base_train_data.drop('obs_index', axis=1, inplace=True)\n",
    "\n",
    "base_test_data = test_data[['obs_index', 'league', 'k_rate', 'release_speed', 'strike_pct']]\n",
    "base_test_data = pd.DataFrame(base_test_data.groupby(['obs_index', 'league', 'k_rate', 'strike_pct'])['release_speed'].mean())\n",
    "base_test_data.reset_index(inplace=True, drop=False)\n",
    "base_test_data.drop('obs_index', axis=1, inplace=True)\n",
    "base_test_data.head()\n",
    "\n",
    "X_train = base_train_data.drop('k_rate', axis=1)\n",
    "y_train = base_train_data['k_rate']\n",
    "\n",
    "X_test = base_test_data.drop('k_rate', axis=1)\n",
    "y_test = base_test_data['k_rate']\n",
    "\n",
    "print(f'Mean K rate for training data: {round(base_train_data[\"k_rate\"].mean(), 2)}')\n",
    "print(f'Mean K rate for testing data: {round(base_test_data[\"k_rate\"].mean(), 2)}')\n",
    "      \n",
    "lr = LinearRegression()\n",
    "lr.fit(X_train, y_train)\n",
    "y_pred = lr.predict(X_test)\n",
    "\n",
    "n = len(y_pred)\n",
    "p = X_test.shape[1]\n",
    "\n",
    "r2 = r2_score(y_test, y_pred)\n",
    "adj_r2 = 1-(1-r2)*(n-1)/(n-p-1)\n",
    "\n",
    "print(f\"Mean Absolute Error: {mean_absolute_error(y_test, y_pred)}\")\n",
    "print(f\"Adjusted R^2: {adj_r2}\")"
   ]
  },
  {
   "cell_type": "markdown",
   "metadata": {},
   "source": [
    "#### Next, prepare the clustered data by merging the K rate data with pitch counts data"
   ]
  },
  {
   "cell_type": "code",
   "execution_count": 30,
   "metadata": {},
   "outputs": [
    {
     "name": "stdout",
     "output_type": "stream",
     "text": [
      "Shape of the training data: (885, 9)\n"
     ]
    },
    {
     "data": {
      "text/html": [
       "<div>\n",
       "<style scoped>\n",
       "    .dataframe tbody tr th:only-of-type {\n",
       "        vertical-align: middle;\n",
       "    }\n",
       "\n",
       "    .dataframe tbody tr th {\n",
       "        vertical-align: top;\n",
       "    }\n",
       "\n",
       "    .dataframe thead th {\n",
       "        text-align: right;\n",
       "    }\n",
       "</style>\n",
       "<table border=\"1\" class=\"dataframe\">\n",
       "  <thead>\n",
       "    <tr style=\"text-align: right;\">\n",
       "      <th></th>\n",
       "      <th>k_rate</th>\n",
       "      <th>strike_pct</th>\n",
       "      <th>league</th>\n",
       "      <th>cluster_0</th>\n",
       "      <th>cluster_1</th>\n",
       "      <th>cluster_2</th>\n",
       "      <th>cluster_3</th>\n",
       "      <th>cluster_4</th>\n",
       "      <th>cluster_5</th>\n",
       "    </tr>\n",
       "  </thead>\n",
       "  <tbody>\n",
       "    <tr>\n",
       "      <th>2012_112526</th>\n",
       "      <td>0.143082</td>\n",
       "      <td>0.700140</td>\n",
       "      <td>1</td>\n",
       "      <td>0.0</td>\n",
       "      <td>0.000000</td>\n",
       "      <td>0.0</td>\n",
       "      <td>5.164786</td>\n",
       "      <td>0.0</td>\n",
       "      <td>5.783825</td>\n",
       "    </tr>\n",
       "    <tr>\n",
       "      <th>2012_117955</th>\n",
       "      <td>0.085938</td>\n",
       "      <td>0.602652</td>\n",
       "      <td>2</td>\n",
       "      <td>0.0</td>\n",
       "      <td>0.000000</td>\n",
       "      <td>0.0</td>\n",
       "      <td>4.905275</td>\n",
       "      <td>0.0</td>\n",
       "      <td>5.971262</td>\n",
       "    </tr>\n",
       "    <tr>\n",
       "      <th>2012_119154</th>\n",
       "      <td>0.155298</td>\n",
       "      <td>0.627504</td>\n",
       "      <td>1</td>\n",
       "      <td>0.0</td>\n",
       "      <td>3.258097</td>\n",
       "      <td>0.0</td>\n",
       "      <td>5.087596</td>\n",
       "      <td>0.0</td>\n",
       "      <td>5.808142</td>\n",
       "    </tr>\n",
       "    <tr>\n",
       "      <th>2012_120485</th>\n",
       "      <td>0.227723</td>\n",
       "      <td>0.650752</td>\n",
       "      <td>1</td>\n",
       "      <td>0.0</td>\n",
       "      <td>0.000000</td>\n",
       "      <td>0.0</td>\n",
       "      <td>4.060443</td>\n",
       "      <td>0.0</td>\n",
       "      <td>5.036953</td>\n",
       "    </tr>\n",
       "    <tr>\n",
       "      <th>2012_133225</th>\n",
       "      <td>0.213389</td>\n",
       "      <td>0.643013</td>\n",
       "      <td>2</td>\n",
       "      <td>0.0</td>\n",
       "      <td>0.000000</td>\n",
       "      <td>0.0</td>\n",
       "      <td>5.117994</td>\n",
       "      <td>0.0</td>\n",
       "      <td>5.823046</td>\n",
       "    </tr>\n",
       "  </tbody>\n",
       "</table>\n",
       "</div>"
      ],
      "text/plain": [
       "               k_rate  strike_pct  league  cluster_0  cluster_1  cluster_2  \\\n",
       "2012_112526  0.143082    0.700140       1        0.0   0.000000        0.0   \n",
       "2012_117955  0.085938    0.602652       2        0.0   0.000000        0.0   \n",
       "2012_119154  0.155298    0.627504       1        0.0   3.258097        0.0   \n",
       "2012_120485  0.227723    0.650752       1        0.0   0.000000        0.0   \n",
       "2012_133225  0.213389    0.643013       2        0.0   0.000000        0.0   \n",
       "\n",
       "             cluster_3  cluster_4  cluster_5  \n",
       "2012_112526   5.164786        0.0   5.783825  \n",
       "2012_117955   4.905275        0.0   5.971262  \n",
       "2012_119154   5.087596        0.0   5.808142  \n",
       "2012_120485   4.060443        0.0   5.036953  \n",
       "2012_133225   5.117994        0.0   5.823046  "
      ]
     },
     "execution_count": 30,
     "metadata": {},
     "output_type": "execute_result"
    }
   ],
   "source": [
    "train_data.set_index('obs_index', inplace=True, drop=True)\n",
    "strike_train_data = train_data[['k_rate', 'strike_pct', 'league']]\n",
    "\n",
    "train_data_Kpct = pd.merge(strike_train_data, train_pitch_counts_df, left_index=True, right_index=True)\n",
    "#train_data_Kpct.drop('num_clusters', axis=1, inplace=True)\n",
    "\n",
    "# fill na's (with 0 or 1 depending on if we are taking the log's of columns)\n",
    "train_data_Kpct.fillna(value=1.0, inplace=True)\n",
    "\n",
    "train_data_Kpct.drop_duplicates(inplace=True)\n",
    "\n",
    "train_data_Kpct.columns = ['k_rate', 'strike_pct', 'league', 'cluster_0', 'cluster_1', 'cluster_2', 'cluster_3', 'cluster_4', 'cluster_5']\n",
    "# take log of pitch count columns\n",
    "for col in ['cluster_0', 'cluster_1', 'cluster_2', 'cluster_3', 'cluster_4', 'cluster_5']:\n",
    "    train_data_Kpct[col] = np.log(train_data_Kpct[col])\n",
    "\n",
    "print(f\"Shape of the training data: {train_data_Kpct.shape}\")\n",
    "train_data_Kpct.head()"
   ]
  },
  {
   "cell_type": "code",
   "execution_count": 31,
   "metadata": {},
   "outputs": [
    {
     "name": "stdout",
     "output_type": "stream",
     "text": [
      "Shape of the test data: (191, 9)\n"
     ]
    },
    {
     "data": {
      "text/html": [
       "<div>\n",
       "<style scoped>\n",
       "    .dataframe tbody tr th:only-of-type {\n",
       "        vertical-align: middle;\n",
       "    }\n",
       "\n",
       "    .dataframe tbody tr th {\n",
       "        vertical-align: top;\n",
       "    }\n",
       "\n",
       "    .dataframe thead th {\n",
       "        text-align: right;\n",
       "    }\n",
       "</style>\n",
       "<table border=\"1\" class=\"dataframe\">\n",
       "  <thead>\n",
       "    <tr style=\"text-align: right;\">\n",
       "      <th></th>\n",
       "      <th>k_rate</th>\n",
       "      <th>strike_pct</th>\n",
       "      <th>league</th>\n",
       "      <th>cluster_0</th>\n",
       "      <th>cluster_1</th>\n",
       "      <th>cluster_2</th>\n",
       "      <th>cluster_3</th>\n",
       "      <th>cluster_4</th>\n",
       "      <th>cluster_5</th>\n",
       "    </tr>\n",
       "  </thead>\n",
       "  <tbody>\n",
       "    <tr>\n",
       "      <th>2017_112526</th>\n",
       "      <td>0.137346</td>\n",
       "      <td>0.675853</td>\n",
       "      <td>2</td>\n",
       "      <td>0.0</td>\n",
       "      <td>0.000000</td>\n",
       "      <td>0.0</td>\n",
       "      <td>5.241747</td>\n",
       "      <td>0.0</td>\n",
       "      <td>5.777652</td>\n",
       "    </tr>\n",
       "    <tr>\n",
       "      <th>2017_276520</th>\n",
       "      <td>0.139752</td>\n",
       "      <td>0.656601</td>\n",
       "      <td>0</td>\n",
       "      <td>0.0</td>\n",
       "      <td>2.944439</td>\n",
       "      <td>0.0</td>\n",
       "      <td>4.595120</td>\n",
       "      <td>0.0</td>\n",
       "      <td>4.828314</td>\n",
       "    </tr>\n",
       "    <tr>\n",
       "      <th>2017_282332</th>\n",
       "      <td>0.192616</td>\n",
       "      <td>0.635897</td>\n",
       "      <td>1</td>\n",
       "      <td>0.0</td>\n",
       "      <td>0.000000</td>\n",
       "      <td>0.0</td>\n",
       "      <td>4.744932</td>\n",
       "      <td>0.0</td>\n",
       "      <td>5.789960</td>\n",
       "    </tr>\n",
       "    <tr>\n",
       "      <th>2017_285079</th>\n",
       "      <td>0.166871</td>\n",
       "      <td>0.660055</td>\n",
       "      <td>0</td>\n",
       "      <td>0.0</td>\n",
       "      <td>3.737670</td>\n",
       "      <td>0.0</td>\n",
       "      <td>5.176150</td>\n",
       "      <td>0.0</td>\n",
       "      <td>5.902633</td>\n",
       "    </tr>\n",
       "    <tr>\n",
       "      <th>2017_407793</th>\n",
       "      <td>0.203830</td>\n",
       "      <td>0.640332</td>\n",
       "      <td>0</td>\n",
       "      <td>0.0</td>\n",
       "      <td>3.433987</td>\n",
       "      <td>0.0</td>\n",
       "      <td>5.159055</td>\n",
       "      <td>0.0</td>\n",
       "      <td>5.707110</td>\n",
       "    </tr>\n",
       "  </tbody>\n",
       "</table>\n",
       "</div>"
      ],
      "text/plain": [
       "               k_rate  strike_pct  league  cluster_0  cluster_1  cluster_2  \\\n",
       "2017_112526  0.137346    0.675853       2        0.0   0.000000        0.0   \n",
       "2017_276520  0.139752    0.656601       0        0.0   2.944439        0.0   \n",
       "2017_282332  0.192616    0.635897       1        0.0   0.000000        0.0   \n",
       "2017_285079  0.166871    0.660055       0        0.0   3.737670        0.0   \n",
       "2017_407793  0.203830    0.640332       0        0.0   3.433987        0.0   \n",
       "\n",
       "             cluster_3  cluster_4  cluster_5  \n",
       "2017_112526   5.241747        0.0   5.777652  \n",
       "2017_276520   4.595120        0.0   4.828314  \n",
       "2017_282332   4.744932        0.0   5.789960  \n",
       "2017_285079   5.176150        0.0   5.902633  \n",
       "2017_407793   5.159055        0.0   5.707110  "
      ]
     },
     "execution_count": 31,
     "metadata": {},
     "output_type": "execute_result"
    }
   ],
   "source": [
    "test_data.set_index('obs_index', inplace=True, drop=True)\n",
    "strike_test_data = test_data[['k_rate', 'strike_pct', 'league']]\n",
    "\n",
    "test_data_Kpct = pd.merge(strike_test_data, test_pitch_counts_df, left_index=True, right_index=True)\n",
    "#test_data_Kpct.drop('num_clusters', axis=1, inplace=True)\n",
    "\n",
    "# fill na's (with 0 or 1 depending on if we are taking the log's of columns)\n",
    "test_data_Kpct.fillna(value=1.0, inplace=True)\n",
    "\n",
    "test_data_Kpct.drop_duplicates(inplace=True)\n",
    "\n",
    "test_data_Kpct.columns = ['k_rate', 'strike_pct', 'league', 'cluster_0', 'cluster_1', 'cluster_2', 'cluster_3', 'cluster_4', 'cluster_5']\n",
    "\n",
    "# take log of pitch count columns\n",
    "for col in ['cluster_0', 'cluster_1', 'cluster_2', 'cluster_3', 'cluster_4', 'cluster_5']:\n",
    "    test_data_Kpct[col] = np.log(test_data_Kpct[col])\n",
    "\n",
    "print(f\"Shape of the test data: {test_data_Kpct.shape}\")\n",
    "test_data_Kpct.head()"
   ]
  },
  {
   "cell_type": "markdown",
   "metadata": {},
   "source": [
    "#### Split data into training and test Sets"
   ]
  },
  {
   "cell_type": "code",
   "execution_count": 32,
   "metadata": {},
   "outputs": [
    {
     "name": "stdout",
     "output_type": "stream",
     "text": [
      "(885, 8)\n",
      "(885,)\n",
      "(191, 8)\n",
      "(191,)\n"
     ]
    }
   ],
   "source": [
    "X_train = train_data_Kpct.drop('k_rate', axis=1)\n",
    "y_train = train_data_Kpct['k_rate']\n",
    "\n",
    "X_test = test_data_Kpct.drop('k_rate', axis=1)\n",
    "y_test = test_data_Kpct['k_rate']\n",
    "\n",
    "print(X_train.shape)\n",
    "print(y_train.shape)\n",
    "\n",
    "print(X_test.shape)\n",
    "print(y_test.shape)"
   ]
  },
  {
   "cell_type": "markdown",
   "metadata": {},
   "source": [
    "#### Linear Regression"
   ]
  },
  {
   "cell_type": "code",
   "execution_count": 33,
   "metadata": {},
   "outputs": [
    {
     "name": "stdout",
     "output_type": "stream",
     "text": [
      "Mean Absolute Error: 0.037062191330779586\n",
      "Adjusted R^2: -0.05187636220346281\n"
     ]
    }
   ],
   "source": [
    "lin_reg = LinearRegression()\n",
    "\n",
    "lin_reg.fit(X_train, y_train)\n",
    "\n",
    "y_pred = lin_reg.predict(X_test)\n",
    "\n",
    "n = len(y_pred)\n",
    "p = X_test.shape[1]\n",
    "\n",
    "r2 = r2_score(y_test, y_pred)\n",
    "adj_r2 = 1-(1-r2)*(n-1)/(n-p-1)\n",
    "\n",
    "print(f\"Mean Absolute Error: {mean_absolute_error(y_test, y_pred)}\")\n",
    "print(f\"Adjusted R^2: {adj_r2}\")"
   ]
  },
  {
   "cell_type": "markdown",
   "metadata": {},
   "source": [
    "#### (Off-the-shelf) Random Forest"
   ]
  },
  {
   "cell_type": "code",
   "execution_count": 34,
   "metadata": {},
   "outputs": [
    {
     "name": "stdout",
     "output_type": "stream",
     "text": [
      "Mean Absolute Error: 0.038230804541108436\n",
      "Adjusted R^2: -0.13663132383857945\n"
     ]
    }
   ],
   "source": [
    "rf_reg = RandomForestRegressor()\n",
    "\n",
    "rf_reg.fit(X_train, y_train)\n",
    "\n",
    "y_pred = rf_reg.predict(X_test)\n",
    "\n",
    "n = len(y_pred)\n",
    "p = X_test.shape[1]\n",
    "\n",
    "r2 = r2_score(y_test, y_pred)\n",
    "adj_r2 = 1-(1-r2)*(n-1)/(n-p-1)\n",
    "\n",
    "print(f\"Mean Absolute Error: {mean_absolute_error(y_test, y_pred)}\")\n",
    "print(f\"Adjusted R^2: {adj_r2}\")"
   ]
  },
  {
   "cell_type": "markdown",
   "metadata": {},
   "source": [
    "#### (Off-the-shelf) AdaBoost "
   ]
  },
  {
   "cell_type": "code",
   "execution_count": 35,
   "metadata": {},
   "outputs": [
    {
     "name": "stdout",
     "output_type": "stream",
     "text": [
      "Mean Absolute Error: 0.036655386801337175\n",
      "Adjusted R^2: -0.031992975409322\n"
     ]
    }
   ],
   "source": [
    "ab_reg = AdaBoostRegressor()\n",
    "\n",
    "ab_reg.fit(X_train, y_train)\n",
    "\n",
    "y_pred = ab_reg.predict(X_test)\n",
    "\n",
    "n = len(y_pred)\n",
    "p = X_test.shape[1]\n",
    "\n",
    "r2 = r2_score(y_test, y_pred)\n",
    "adj_r2 = 1-(1-r2)*(n-1)/(n-p-1)\n",
    "\n",
    "print(f\"Mean Absolute Error: {mean_absolute_error(y_test, y_pred)}\")\n",
    "print(f\"Adjusted R^2: {adj_r2}\")"
   ]
  },
  {
   "cell_type": "markdown",
   "metadata": {},
   "source": [
    "#### Optimized Random Forest\n",
    "\n",
    "Using Scikit-Learn's GridSearchCV to find the optimal set of hyperparameters."
   ]
  },
  {
   "cell_type": "code",
   "execution_count": 37,
   "metadata": {},
   "outputs": [
    {
     "name": "stdout",
     "output_type": "stream",
     "text": [
      "Fitting 3 folds for each of 288 candidates, totalling 864 fits\n"
     ]
    },
    {
     "name": "stderr",
     "output_type": "stream",
     "text": [
      "[Parallel(n_jobs=-1)]: Using backend LokyBackend with 8 concurrent workers.\n",
      "[Parallel(n_jobs=-1)]: Done  25 tasks      | elapsed:    2.1s\n",
      "[Parallel(n_jobs=-1)]: Done 146 tasks      | elapsed:   12.7s\n",
      "[Parallel(n_jobs=-1)]: Done 349 tasks      | elapsed:   37.5s\n",
      "[Parallel(n_jobs=-1)]: Done 632 tasks      | elapsed:  1.2min\n"
     ]
    },
    {
     "name": "stdout",
     "output_type": "stream",
     "text": [
      "{'bootstrap': True, 'max_depth': 80, 'max_features': 2, 'min_samples_leaf': 5, 'min_samples_split': 10, 'n_estimators': 100}\n",
      "Mean Absolute Error: 0.03694938978373782\n",
      "Adjusted R^2: -0.05406502195269702\n"
     ]
    },
    {
     "name": "stderr",
     "output_type": "stream",
     "text": [
      "[Parallel(n_jobs=-1)]: Done 864 out of 864 | elapsed:  1.7min finished\n"
     ]
    }
   ],
   "source": [
    "param_grid = {\n",
    "    'bootstrap': [True],\n",
    "    'max_depth': [80, 90, 100, 110],\n",
    "    'max_features': [2, 3],\n",
    "    'min_samples_leaf': [3, 4, 5],\n",
    "    'min_samples_split': [8, 10, 12],\n",
    "    'n_estimators': [100, 200, 300, 1000]\n",
    "}\n",
    "# Create a based model\n",
    "rf = RandomForestRegressor()\n",
    "# Instantiate the grid search model\n",
    "grid_search = GridSearchCV(estimator = rf, param_grid = param_grid, cv = 3, n_jobs = -1, verbose = 2)\n",
    "\n",
    "grid_search.fit(X_train, y_train)\n",
    "\n",
    "print(grid_search.best_params_)\n",
    "\n",
    "y_pred = grid_search.predict(X_test)\n",
    "\n",
    "n = len(y_pred)\n",
    "p = X_test.shape[1]\n",
    "\n",
    "r2 = r2_score(y_test, y_pred)\n",
    "adj_r2 = 1-(1-r2)*(n-1)/(n-p-1)\n",
    "\n",
    "print(f\"Mean Absolute Error: {mean_absolute_error(y_test, y_pred)}\")\n",
    "print(f\"Adjusted R^2: {adj_r2}\")"
   ]
  },
  {
   "cell_type": "code",
   "execution_count": 38,
   "metadata": {},
   "outputs": [
    {
     "data": {
      "image/png": "[encoded data removed]",
      "text/plain": [
       "<Figure size 360x360 with 1 Axes>"
      ]
     },
     "metadata": {
      "needs_background": "light"
     },
     "output_type": "display_data"
    }
   ],
   "source": [
    "fig = plt.figure(figsize=(5,5))\n",
    "plt.scatter(y_pred, y_test)\n",
    "plt.plot([0., 0.4], [0., 0.4], 'k--')\n",
    "plt.xlim([0, 0.4])\n",
    "plt.ylim([0, 0.4])\n",
    "plt.xlabel('Predicted Strikeout Rate')\n",
    "plt.ylabel('Actual Strikeout Rate')\n",
    "plt.show()"
   ]
  },
  {
   "cell_type": "markdown",
   "metadata": {},
   "source": [
    "#### Optimized AdaBoost"
   ]
  },
  {
   "cell_type": "code",
   "execution_count": 39,
   "metadata": {},
   "outputs": [
    {
     "name": "stdout",
     "output_type": "stream",
     "text": [
      "Fitting 3 folds for each of 105 candidates, totalling 315 fits\n"
     ]
    },
    {
     "name": "stderr",
     "output_type": "stream",
     "text": [
      "[Parallel(n_jobs=-1)]: Using backend LokyBackend with 8 concurrent workers.\n",
      "[Parallel(n_jobs=-1)]: Done  70 tasks      | elapsed:    4.0s\n",
      "[Parallel(n_jobs=-1)]: Done 274 tasks      | elapsed:   18.7s\n"
     ]
    },
    {
     "name": "stdout",
     "output_type": "stream",
     "text": [
      "{'learning_rate': 0.1, 'loss': 'exponential', 'n_estimators': 20}\n",
      "Mean Absolute Error: 0.036878172022345605\n",
      "Adjusted R^2: -0.03884217364188047\n"
     ]
    },
    {
     "name": "stderr",
     "output_type": "stream",
     "text": [
      "[Parallel(n_jobs=-1)]: Done 315 out of 315 | elapsed:   22.9s finished\n"
     ]
    }
   ],
   "source": [
    "param_grid = {\n",
    "    'n_estimators': [10, 20, 50, 100, 200, 300, 1000],\n",
    "    'learning_rate': [0.1, 0.5, 1.0, 5.0, 10.0],\n",
    "    'loss': ['linear', 'square', 'exponential']\n",
    "}\n",
    "# Create a based model\n",
    "ab = AdaBoostRegressor()\n",
    "# Instantiate the grid search model\n",
    "grid_search = GridSearchCV(estimator = ab, param_grid = param_grid, cv = 3, n_jobs = -1, verbose = 2)\n",
    "\n",
    "grid_search.fit(X_train, y_train)\n",
    "\n",
    "print(grid_search.best_params_)\n",
    "\n",
    "y_pred = grid_search.predict(X_test)\n",
    "\n",
    "n = len(y_pred)\n",
    "p = X_test.shape[1]\n",
    "\n",
    "r2 = r2_score(y_test, y_pred)\n",
    "adj_r2 = 1-(1-r2)*(n-1)/(n-p-1)\n",
    "\n",
    "print(f\"Mean Absolute Error: {mean_absolute_error(y_test, y_pred)}\")\n",
    "print(f\"Adjusted R^2: {adj_r2}\")"
   ]
  },
  {
   "cell_type": "code",
   "execution_count": 40,
   "metadata": {},
   "outputs": [
    {
     "data": {
      "image/png": "[encoded data removed]",
      "text/plain": [
       "<Figure size 360x360 with 1 Axes>"
      ]
     },
     "metadata": {
      "needs_background": "light"
     },
     "output_type": "display_data"
    }
   ],
   "source": [
    "fig = plt.figure(figsize=(5,5))\n",
    "plt.scatter(y_pred, y_test)\n",
    "plt.plot([0., 0.4], [0., 0.4], 'k--')\n",
    "plt.xlim([0, 0.4])\n",
    "plt.ylim([0, 0.4])\n",
    "plt.xlabel('Predicted Strikeout Rate')\n",
    "plt.ylabel('Actual Strikeout Rate')\n",
    "plt.show()"
   ]
  },
  {
   "cell_type": "markdown",
   "metadata": {},
   "source": [
    "#### Optimized XGBoost"
   ]
  },
  {
   "cell_type": "code",
   "execution_count": 41,
   "metadata": {},
   "outputs": [
    {
     "name": "stdout",
     "output_type": "stream",
     "text": [
      "Fitting 3 folds for each of 27 candidates, totalling 81 fits\n"
     ]
    },
    {
     "name": "stderr",
     "output_type": "stream",
     "text": [
      "[Parallel(n_jobs=-1)]: Using backend LokyBackend with 8 concurrent workers.\n",
      "[Parallel(n_jobs=-1)]: Done  34 tasks      | elapsed:    0.5s\n",
      "[Parallel(n_jobs=-1)]: Done  66 out of  81 | elapsed:    1.3s remaining:    0.3s\n"
     ]
    },
    {
     "name": "stdout",
     "output_type": "stream",
     "text": [
      "{'learning_rate': 0.1, 'max_depth': 2, 'min_child_weight': 1}\n",
      "Mean Absolute Error: 0.03615223994445505\n",
      "Adjusted R^2: -0.003171814076373458\n"
     ]
    },
    {
     "name": "stderr",
     "output_type": "stream",
     "text": [
      "[Parallel(n_jobs=-1)]: Done  81 out of  81 | elapsed:    1.6s finished\n"
     ]
    }
   ],
   "source": [
    "param_grid = {\"max_depth\": (2, 5, 20),\n",
    "              \"learning_rate\": (0.01, 0.1, 0.4),\n",
    "              \"min_child_weight\": (1, 3, 5)}\n",
    "# Create a based model\n",
    "xgb = XGBRegressor()\n",
    "# Instantiate the grid search model\n",
    "grid_search = GridSearchCV(estimator = xgb, param_grid = param_grid, cv = 3, n_jobs = -1, verbose = 2)\n",
    "\n",
    "grid_search.fit(X_train, y_train)\n",
    "\n",
    "print(grid_search.best_params_)\n",
    "\n",
    "y_pred = grid_search.predict(X_test)\n",
    "\n",
    "n = len(y_pred)\n",
    "p = X_test.shape[1]\n",
    "\n",
    "r2 = r2_score(y_test, y_pred)\n",
    "adj_r2 = 1-(1-r2)*(n-1)/(n-p-1)\n",
    "\n",
    "print(f\"Mean Absolute Error: {mean_absolute_error(y_test, y_pred)}\")\n",
    "print(f\"Adjusted R^2: {adj_r2}\")"
   ]
  },
  {
   "cell_type": "code",
   "execution_count": 42,
   "metadata": {},
   "outputs": [
    {
     "data": {
      "image/png": "[encoded data removed]",
      "text/plain": [
       "<Figure size 360x360 with 1 Axes>"
      ]
     },
     "metadata": {
      "needs_background": "light"
     },
     "output_type": "display_data"
    }
   ],
   "source": [
    "fig = plt.figure(figsize=(5,5))\n",
    "plt.scatter(y_pred, y_test)\n",
    "plt.plot([0., 0.4], [0., 0.4], 'k--')\n",
    "plt.xlim([0, 0.4])\n",
    "plt.ylim([0, 0.4])\n",
    "plt.xlabel('Predicted Strikeout Rate')\n",
    "plt.ylabel('Actual Strikeout Rate')\n",
    "plt.show()"
   ]
  },
  {
   "cell_type": "code",
   "execution_count": null,
   "metadata": {},
   "outputs": [],
   "source": []
  }
 ],
 "metadata": {
  "kernelspec": {
   "display_name": "Python 3",
   "language": "python",
   "name": "python3"
  },
  "language_info": {
   "codemirror_mode": {
    "name": "ipython",
    "version": 3
   },
   "file_extension": ".py",
   "mimetype": "text/x-python",
   "name": "python",
   "nbconvert_exporter": "python",
   "pygments_lexer": "ipython3",
   "version": "3.6.7"
  }
 },
 "nbformat": 4,
 "nbformat_minor": 2
}
